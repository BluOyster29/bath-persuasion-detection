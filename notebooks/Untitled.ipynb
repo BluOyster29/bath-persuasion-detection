{
 "cells": [
  {
   "cell_type": "code",
   "execution_count": 8,
   "id": "5553125c-e3a6-4f6e-b4b4-be2ad28aa8c7",
   "metadata": {},
   "outputs": [],
   "source": [
    "import torch \n",
    "import pandas as pd\n",
    "\n",
    "import sys \n",
    "\n",
    "sys.path.append('../src/persuasion_detection/')"
   ]
  },
  {
   "cell_type": "code",
   "execution_count": 6,
   "id": "9705f3d5-c5f0-443e-9c81-1d21aa41c361",
   "metadata": {},
   "outputs": [],
   "source": [
    "df = pd.read_csv('../data/testing/brit_task_1.csv')"
   ]
  },
  {
   "cell_type": "code",
   "execution_count": 7,
   "id": "fa1812e4-152e-4cb7-a7a4-e4d51e4ab4d7",
   "metadata": {},
   "outputs": [
    {
     "data": {
      "text/html": [
       "<div>\n",
       "<style scoped>\n",
       "    .dataframe tbody tr th:only-of-type {\n",
       "        vertical-align: middle;\n",
       "    }\n",
       "\n",
       "    .dataframe tbody tr th {\n",
       "        vertical-align: top;\n",
       "    }\n",
       "\n",
       "    .dataframe thead th {\n",
       "        text-align: right;\n",
       "    }\n",
       "</style>\n",
       "<table border=\"1\" class=\"dataframe\">\n",
       "  <thead>\n",
       "    <tr style=\"text-align: right;\">\n",
       "      <th></th>\n",
       "      <th>text</th>\n",
       "      <th>1-RAPPORT</th>\n",
       "      <th>2-NEGOTIATE</th>\n",
       "      <th>3-EMOTION</th>\n",
       "      <th>4-LOGIC</th>\n",
       "      <th>5-AUTHORITY</th>\n",
       "      <th>6-SOCIAL</th>\n",
       "      <th>7-PRESSURE</th>\n",
       "      <th>8-NO-PERSUASION</th>\n",
       "    </tr>\n",
       "  </thead>\n",
       "  <tbody>\n",
       "    <tr>\n",
       "      <th>0</th>\n",
       "      <td>Hey, how's it going? I hope you're doing well.</td>\n",
       "      <td>1</td>\n",
       "      <td>0</td>\n",
       "      <td>0</td>\n",
       "      <td>0</td>\n",
       "      <td>0</td>\n",
       "      <td>0</td>\n",
       "      <td>0</td>\n",
       "      <td>0</td>\n",
       "    </tr>\n",
       "    <tr>\n",
       "      <th>1</th>\n",
       "      <td>I understand you might be busy, but could you ...</td>\n",
       "      <td>1</td>\n",
       "      <td>0</td>\n",
       "      <td>0</td>\n",
       "      <td>1</td>\n",
       "      <td>0</td>\n",
       "      <td>0</td>\n",
       "      <td>0</td>\n",
       "      <td>0</td>\n",
       "    </tr>\n",
       "    <tr>\n",
       "      <th>2</th>\n",
       "      <td>I'm really passionate about this cause, and I ...</td>\n",
       "      <td>1</td>\n",
       "      <td>0</td>\n",
       "      <td>1</td>\n",
       "      <td>0</td>\n",
       "      <td>0</td>\n",
       "      <td>0</td>\n",
       "      <td>0</td>\n",
       "      <td>0</td>\n",
       "    </tr>\n",
       "    <tr>\n",
       "      <th>3</th>\n",
       "      <td>Participating in this event aligns with your v...</td>\n",
       "      <td>1</td>\n",
       "      <td>0</td>\n",
       "      <td>1</td>\n",
       "      <td>0</td>\n",
       "      <td>0</td>\n",
       "      <td>0</td>\n",
       "      <td>0</td>\n",
       "      <td>0</td>\n",
       "    </tr>\n",
       "    <tr>\n",
       "      <th>4</th>\n",
       "      <td>The organizers of this charity event have reco...</td>\n",
       "      <td>1</td>\n",
       "      <td>1</td>\n",
       "      <td>0</td>\n",
       "      <td>0</td>\n",
       "      <td>1</td>\n",
       "      <td>0</td>\n",
       "      <td>0</td>\n",
       "      <td>0</td>\n",
       "    </tr>\n",
       "  </tbody>\n",
       "</table>\n",
       "</div>"
      ],
      "text/plain": [
       "                                                text  1-RAPPORT  2-NEGOTIATE  \\\n",
       "0     Hey, how's it going? I hope you're doing well.          1            0   \n",
       "1  I understand you might be busy, but could you ...          1            0   \n",
       "2  I'm really passionate about this cause, and I ...          1            0   \n",
       "3  Participating in this event aligns with your v...          1            0   \n",
       "4  The organizers of this charity event have reco...          1            1   \n",
       "\n",
       "   3-EMOTION  4-LOGIC  5-AUTHORITY  6-SOCIAL  7-PRESSURE  8-NO-PERSUASION  \n",
       "0          0        0            0         0           0                0  \n",
       "1          0        1            0         0           0                0  \n",
       "2          1        0            0         0           0                0  \n",
       "3          1        0            0         0           0                0  \n",
       "4          0        0            1         0           0                0  "
      ]
     },
     "execution_count": 7,
     "metadata": {},
     "output_type": "execute_result"
    }
   ],
   "source": [
    "df.head()"
   ]
  },
  {
   "cell_type": "code",
   "execution_count": 24,
   "id": "038179cf-57ce-40a8-940b-8d09b9b40458",
   "metadata": {},
   "outputs": [],
   "source": [
    "from utils import load_dataloader\n",
    "from persuasion_strategy_dataset import PersuasionStrategyDataset\n",
    "from torch.utils.data import DataLoader"
   ]
  },
  {
   "cell_type": "code",
   "execution_count": null,
   "id": "3a66feda-19b0-4b22-a69f-7e80f61b7088",
   "metadata": {},
   "outputs": [],
   "source": []
  },
  {
   "cell_type": "code",
   "execution_count": 31,
   "id": "d4a0ebd1-518c-420e-87f0-84270d5a0427",
   "metadata": {},
   "outputs": [],
   "source": [
    "def load_dataloader(config):\n",
    "\n",
    "    if config.get('eval_dataloader_path')[-4:] == '.pkl':\n",
    "        with open(\n",
    "            f\"{config.get('eval_dataloader_path')}\",\n",
    "            'rb'\n",
    "                ) as f:\n",
    "            dataloader = pickle.load(f)\n",
    "    \n",
    "    elif config.get('eval_dataloader_path')[-4:] == '.csv':\n",
    "        df = pd.read_csv(config.get('eval_dataloader_path'))\n",
    "        \n",
    "        if config.get('drop_social_pressure'):\n",
    "            \n",
    "            df = df.drop(columns=['6-SOCIAL', '7-PRESSURE'])\n",
    "            \n",
    "        pdataset = PersuasionStrategyDataset(\n",
    "            df,\n",
    "            AutoTokenizer.from_pretrained(config.get('pretrained_model')),\n",
    "            max_token_len=config.get('max_token_len')\n",
    "        )\n",
    "        return pdataset\n",
    "        dataloader = DataLoader(\n",
    "            pdataset,\n",
    "            batch_size=32,\n",
    "        )\n",
    "\n",
    "    return dataloader"
   ]
  },
  {
   "cell_type": "code",
   "execution_count": 32,
   "id": "a9e89832-a11f-49ea-9397-7f4e251ab58d",
   "metadata": {},
   "outputs": [
    {
     "ename": "NameError",
     "evalue": "name 'AutoTokenizer' is not defined",
     "output_type": "error",
     "traceback": [
      "\u001b[0;31m---------------------------------------------------------------------------\u001b[0m",
      "\u001b[0;31mNameError\u001b[0m                                 Traceback (most recent call last)",
      "Cell \u001b[0;32mIn[32], line 1\u001b[0m\n\u001b[0;32m----> 1\u001b[0m dataloader \u001b[38;5;241m=\u001b[39m \u001b[43mload_dataloader\u001b[49m\u001b[43m(\u001b[49m\n\u001b[1;32m      2\u001b[0m \u001b[43m    \u001b[49m\u001b[43m{\u001b[49m\n\u001b[1;32m      3\u001b[0m \u001b[43m        \u001b[49m\u001b[38;5;124;43m'\u001b[39;49m\u001b[38;5;124;43meval_dataloader_path\u001b[39;49m\u001b[38;5;124;43m'\u001b[39;49m\u001b[43m \u001b[49m\u001b[43m:\u001b[49m\u001b[43m \u001b[49m\u001b[38;5;124;43m'\u001b[39;49m\u001b[38;5;124;43m/Users/rt853/repos/UoB/bath-persuasion-detection/data/testing/brit_task_1.csv\u001b[39;49m\u001b[38;5;124;43m'\u001b[39;49m\n\u001b[1;32m      4\u001b[0m \u001b[43m    \u001b[49m\u001b[43m}\u001b[49m\n\u001b[1;32m      5\u001b[0m \u001b[43m)\u001b[49m\n",
      "Cell \u001b[0;32mIn[31], line 19\u001b[0m, in \u001b[0;36mload_dataloader\u001b[0;34m(config)\u001b[0m\n\u001b[1;32m     13\u001b[0m \u001b[38;5;28;01mif\u001b[39;00m config\u001b[38;5;241m.\u001b[39mget(\u001b[38;5;124m'\u001b[39m\u001b[38;5;124mdrop_social_pressure\u001b[39m\u001b[38;5;124m'\u001b[39m):\n\u001b[1;32m     15\u001b[0m     df \u001b[38;5;241m=\u001b[39m df\u001b[38;5;241m.\u001b[39mdrop(columns\u001b[38;5;241m=\u001b[39m[\u001b[38;5;124m'\u001b[39m\u001b[38;5;124m6-SOCIAL\u001b[39m\u001b[38;5;124m'\u001b[39m, \u001b[38;5;124m'\u001b[39m\u001b[38;5;124m7-PRESSURE\u001b[39m\u001b[38;5;124m'\u001b[39m])\n\u001b[1;32m     17\u001b[0m pdataset \u001b[38;5;241m=\u001b[39m PersuasionStrategyDataset(\n\u001b[1;32m     18\u001b[0m     df,\n\u001b[0;32m---> 19\u001b[0m     \u001b[43mAutoTokenizer\u001b[49m\u001b[38;5;241m.\u001b[39mfrom_pretrained(config\u001b[38;5;241m.\u001b[39mget(\u001b[38;5;124m'\u001b[39m\u001b[38;5;124mpretrained_model\u001b[39m\u001b[38;5;124m'\u001b[39m)),\n\u001b[1;32m     20\u001b[0m     max_token_len\u001b[38;5;241m=\u001b[39mconfig\u001b[38;5;241m.\u001b[39mget(\u001b[38;5;124m'\u001b[39m\u001b[38;5;124mmax_token_len\u001b[39m\u001b[38;5;124m'\u001b[39m)\n\u001b[1;32m     21\u001b[0m )\n\u001b[1;32m     22\u001b[0m \u001b[38;5;28;01mreturn\u001b[39;00m pdataset\n\u001b[1;32m     23\u001b[0m dataloader \u001b[38;5;241m=\u001b[39m DataLoader(\n\u001b[1;32m     24\u001b[0m     pdataset,\n\u001b[1;32m     25\u001b[0m     batch_size\u001b[38;5;241m=\u001b[39m\u001b[38;5;241m32\u001b[39m,\n\u001b[1;32m     26\u001b[0m )\n",
      "\u001b[0;31mNameError\u001b[0m: name 'AutoTokenizer' is not defined"
     ]
    }
   ],
   "source": [
    "dataloader = load_dataloader(\n",
    "    {\n",
    "        'eval_dataloader_path' : '/Users/rt853/repos/UoB/bath-persuasion-detection/data/testing/brit_task_1.csv'\n",
    "    }\n",
    ")"
   ]
  },
  {
   "cell_type": "code",
   "execution_count": 30,
   "id": "5ea379bd-5b2b-43d2-9814-9c51a848968e",
   "metadata": {},
   "outputs": [
    {
     "ename": "AttributeError",
     "evalue": "'NoneType' object has no attribute 'encode_plus'",
     "output_type": "error",
     "traceback": [
      "\u001b[0;31m---------------------------------------------------------------------------\u001b[0m",
      "\u001b[0;31mAttributeError\u001b[0m                            Traceback (most recent call last)",
      "Cell \u001b[0;32mIn[30], line 1\u001b[0m\n\u001b[0;32m----> 1\u001b[0m \u001b[43mdataloader\u001b[49m\u001b[43m[\u001b[49m\u001b[38;5;241;43m0\u001b[39;49m\u001b[43m]\u001b[49m\n",
      "File \u001b[0;32m~/repos/UoB/bath-persuasion-detection/notebooks/../src/persuasion_detection/persuasion_strategy_dataset.py:31\u001b[0m, in \u001b[0;36mPersuasionStrategyDataset.__getitem__\u001b[0;34m(self, index)\u001b[0m\n\u001b[1;32m     29\u001b[0m comment_text \u001b[38;5;241m=\u001b[39m data_row\u001b[38;5;241m.\u001b[39mtext\n\u001b[1;32m     30\u001b[0m labels \u001b[38;5;241m=\u001b[39m data_row[\u001b[38;5;28mself\u001b[39m\u001b[38;5;241m.\u001b[39mLABEL_COLUMNS]\n\u001b[0;32m---> 31\u001b[0m encoding \u001b[38;5;241m=\u001b[39m \u001b[38;5;28;43mself\u001b[39;49m\u001b[38;5;241;43m.\u001b[39;49m\u001b[43mtokenizer\u001b[49m\u001b[38;5;241;43m.\u001b[39;49m\u001b[43mencode_plus\u001b[49m(\n\u001b[1;32m     32\u001b[0m     comment_text,\n\u001b[1;32m     33\u001b[0m     add_special_tokens\u001b[38;5;241m=\u001b[39m\u001b[38;5;28;01mTrue\u001b[39;00m,\n\u001b[1;32m     34\u001b[0m     max_length\u001b[38;5;241m=\u001b[39m\u001b[38;5;28mself\u001b[39m\u001b[38;5;241m.\u001b[39mmax_token_len,\n\u001b[1;32m     35\u001b[0m     return_token_type_ids\u001b[38;5;241m=\u001b[39m\u001b[38;5;28;01mFalse\u001b[39;00m,\n\u001b[1;32m     36\u001b[0m     padding\u001b[38;5;241m=\u001b[39m\u001b[38;5;124m\"\u001b[39m\u001b[38;5;124mmax_length\u001b[39m\u001b[38;5;124m\"\u001b[39m,\n\u001b[1;32m     37\u001b[0m     truncation\u001b[38;5;241m=\u001b[39m\u001b[38;5;28;01mTrue\u001b[39;00m,\n\u001b[1;32m     38\u001b[0m     return_attention_mask\u001b[38;5;241m=\u001b[39m\u001b[38;5;28;01mTrue\u001b[39;00m,\n\u001b[1;32m     39\u001b[0m     return_tensors\u001b[38;5;241m=\u001b[39m\u001b[38;5;124m'\u001b[39m\u001b[38;5;124mpt\u001b[39m\u001b[38;5;124m'\u001b[39m,\n\u001b[1;32m     40\u001b[0m     )\n\u001b[1;32m     42\u001b[0m \u001b[38;5;28;01mreturn\u001b[39;00m \u001b[38;5;28mdict\u001b[39m(\n\u001b[1;32m     43\u001b[0m     comment_text\u001b[38;5;241m=\u001b[39mcomment_text,\n\u001b[1;32m     44\u001b[0m     input_ids\u001b[38;5;241m=\u001b[39mencoding[\u001b[38;5;124m\"\u001b[39m\u001b[38;5;124minput_ids\u001b[39m\u001b[38;5;124m\"\u001b[39m]\u001b[38;5;241m.\u001b[39mflatten(),\n\u001b[1;32m     45\u001b[0m     attention_mask\u001b[38;5;241m=\u001b[39mencoding[\u001b[38;5;124m\"\u001b[39m\u001b[38;5;124mattention_mask\u001b[39m\u001b[38;5;124m\"\u001b[39m]\u001b[38;5;241m.\u001b[39mflatten(),\n\u001b[1;32m     46\u001b[0m     labels\u001b[38;5;241m=\u001b[39mtorch\u001b[38;5;241m.\u001b[39mFloatTensor(labels)\n\u001b[1;32m     47\u001b[0m )\n",
      "\u001b[0;31mAttributeError\u001b[0m: 'NoneType' object has no attribute 'encode_plus'"
     ]
    }
   ],
   "source": [
    "dataloader[0]"
   ]
  },
  {
   "cell_type": "code",
   "execution_count": null,
   "id": "afd69d66-261a-446b-9f8e-5b6023f7e6d4",
   "metadata": {},
   "outputs": [],
   "source": []
  }
 ],
 "metadata": {
  "kernelspec": {
   "display_name": "Python 3 (ipykernel)",
   "language": "python",
   "name": "python3"
  },
  "language_info": {
   "codemirror_mode": {
    "name": "ipython",
    "version": 3
   },
   "file_extension": ".py",
   "mimetype": "text/x-python",
   "name": "python",
   "nbconvert_exporter": "python",
   "pygments_lexer": "ipython3",
   "version": "3.9.6"
  }
 },
 "nbformat": 4,
 "nbformat_minor": 5
}
