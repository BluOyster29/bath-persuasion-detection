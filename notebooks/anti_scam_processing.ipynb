{
 "cells": [
  {
   "cell_type": "code",
   "execution_count": 28,
   "id": "e81031f4-16dd-475e-9cf4-12ef908e0b8b",
   "metadata": {},
   "outputs": [],
   "source": [
    "import pandas as pd \n",
    "import json \n",
    "import re "
   ]
  },
  {
   "cell_type": "code",
   "execution_count": 22,
   "id": "f805069b-ff5d-42b3-b8ee-236fdd679ca5",
   "metadata": {},
   "outputs": [],
   "source": [
    "def load_transcripts(path):\n",
    "    \n",
    "    with open(path) as file:\n",
    "        lines = file.read()\n",
    "    return lines"
   ]
  },
  {
   "cell_type": "code",
   "execution_count": 23,
   "id": "f0e918ef-22c6-46d6-9c16-561026f20028",
   "metadata": {},
   "outputs": [],
   "source": [
    "lines = load_transcripts(\n",
    "    '/Users/rt853/repos/UoB/persuasion_datasets/'\n",
    "    'antiscam_dataset_Li et al. 2020/'\n",
    "    'antiscam-master/data/AntiScam_all.txt'\n",
    ")\n"
   ]
  },
  {
   "cell_type": "code",
   "execution_count": 24,
   "id": "770df9a3-b965-4acd-aed8-ad29e8711525",
   "metadata": {},
   "outputs": [],
   "source": [
    "def preprocess_transcripts(lines):\n",
    "    processed_transcripts = []\n",
    "    transcripts = lines.split('\\n\\t')\n",
    "    for t in transcripts:\n",
    "        t = re.sub('0\\t', 'Persuader: ', t)\n",
    "        t = re.sub('1\\t', 'User_2: ', t)\n",
    "        processed_transcripts.append(t)\n",
    "    return processed_transcripts"
   ]
  },
  {
   "cell_type": "code",
   "execution_count": 30,
   "id": "b2ba2a37-6e26-45e6-9a15-86ad8ad998dc",
   "metadata": {},
   "outputs": [],
   "source": [
    "transcripts = preprocess_transcripts(lines)\n",
    "df = pd.DataFrame(\n",
    "    {\n",
    "        'text' : transcripts,\n",
    "        'labels' : None\n",
    "    }\n",
    ")"
   ]
  },
  {
   "cell_type": "code",
   "execution_count": 33,
   "id": "34962ed2-2629-4606-be20-d478961fef20",
   "metadata": {},
   "outputs": [],
   "source": [
    "def export_textfile(df, path):\n",
    "\n",
    "    json_list = [{'text' : i, 'label' : [[]]} for i in df.text.tolist()]\n",
    "    with open(path, 'w') as file:\n",
    "        for i in json_list:\n",
    "            file.write(json.dumps(i))\n",
    "            file.write('\\n')"
   ]
  },
  {
   "cell_type": "code",
   "execution_count": 34,
   "id": "093859c1-e423-49a0-a31a-fd44ec9e8d3b",
   "metadata": {},
   "outputs": [],
   "source": [
    "export_textfile(df, '../data/testing/anti_scamp2020.jsonl')"
   ]
  },
  {
   "cell_type": "code",
   "execution_count": null,
   "id": "ee05c4a4-38d0-4444-9d70-266738f61250",
   "metadata": {},
   "outputs": [],
   "source": []
  }
 ],
 "metadata": {
  "kernelspec": {
   "display_name": "Python 3 (ipykernel)",
   "language": "python",
   "name": "python3"
  },
  "language_info": {
   "codemirror_mode": {
    "name": "ipython",
    "version": 3
   },
   "file_extension": ".py",
   "mimetype": "text/x-python",
   "name": "python",
   "nbconvert_exporter": "python",
   "pygments_lexer": "ipython3",
   "version": "3.9.6"
  }
 },
 "nbformat": 4,
 "nbformat_minor": 5
}
