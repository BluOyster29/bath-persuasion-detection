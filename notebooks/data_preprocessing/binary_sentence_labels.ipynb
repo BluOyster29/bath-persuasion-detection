{
 "cells": [
  {
   "cell_type": "code",
   "execution_count": 1,
   "id": "401cd674-b921-4b66-889e-777c6bde06a4",
   "metadata": {},
   "outputs": [],
   "source": [
    "import pandas as pd "
   ]
  },
  {
   "cell_type": "code",
   "execution_count": 3,
   "id": "3a1f0d3a-5e64-413f-afcc-b74c77cfb215",
   "metadata": {},
   "outputs": [],
   "source": [
    "df_1pat = '../../data/raw/training.csv'\n",
    "df2_2pat = '../../data/raw/testing.csv'"
   ]
  },
  {
   "cell_type": "code",
   "execution_count": 6,
   "id": "91a1f604-b7fa-4680-8e0c-7a390c50219a",
   "metadata": {},
   "outputs": [],
   "source": [
    "df = pd.read_csv(df_1pat)\n",
    "df2 = pd.read_csv(df2_2pat)"
   ]
  },
  {
   "cell_type": "code",
   "execution_count": 9,
   "id": "b19f2a5e-331c-45bc-ad79-a710136ca8e5",
   "metadata": {},
   "outputs": [],
   "source": [
    "all_d = pd.concat([df,df2]).drop_duplicates()"
   ]
  },
  {
   "cell_type": "code",
   "execution_count": 61,
   "id": "0a71f72c-997a-46ca-8c80-aec024ac69c1",
   "metadata": {},
   "outputs": [],
   "source": [
    "\n",
    "\n",
    "datasets = {}\n",
    "for column in all_d.columns[1:]:\n",
    "    ds = {\n",
    "        'text': [],\n",
    "        'label' : [],\n",
    "        'binary_label' : [],\n",
    "        'target_column' : []\n",
    "    }\n",
    "    datasets[column] = ds\n",
    "    for idx, row in all_d.iterrows():\n",
    "        datasets[column]['text'].append(row.text)\n",
    "        datasets[column]['label'].append(row.keys()[row[1:].values.argmax()+1])\n",
    "        datasets[column]['binary_label'].append(row[column])\n",
    "        datasets[column]['target_column'].append(column)\n"
   ]
  },
  {
   "cell_type": "code",
   "execution_count": 62,
   "id": "0bd246cf-d936-46bf-8d57-e479579a8dc3",
   "metadata": {},
   "outputs": [],
   "source": [
    "for key, val in datasets.items():\n",
    "\n",
    "    df = pd.DataFrame(val)\n",
    "    df.to_csv('/Users/rt853/repos/UoB/bath-persuasion-detection/data/binary_sentence_level/' + key + 'binary_sentence.csv', index=False)"
   ]
  },
  {
   "cell_type": "code",
   "execution_count": null,
   "id": "23ae8467-81ef-4feb-af77-1828c507ec24",
   "metadata": {},
   "outputs": [],
   "source": []
  },
  {
   "cell_type": "code",
   "execution_count": null,
   "id": "80f787b7-f337-4be7-909f-3566bbb5f9c2",
   "metadata": {},
   "outputs": [],
   "source": []
  }
 ],
 "metadata": {
  "kernelspec": {
   "display_name": "Python 3 (ipykernel)",
   "language": "python",
   "name": "python3"
  },
  "language_info": {
   "codemirror_mode": {
    "name": "ipython",
    "version": 3
   },
   "file_extension": ".py",
   "mimetype": "text/x-python",
   "name": "python",
   "nbconvert_exporter": "python",
   "pygments_lexer": "ipython3",
   "version": "3.12.1"
  }
 },
 "nbformat": 4,
 "nbformat_minor": 5
}
