{
 "cells": [
  {
   "cell_type": "markdown",
   "id": "f42fbe0e-d757-499b-848a-6feb69fc0127",
   "metadata": {},
   "source": [
    "# Code for importing json labels to doccano"
   ]
  },
  {
   "cell_type": "code",
   "execution_count": 2,
   "id": "9d3bafff-21e7-4fcc-be4d-1cfefab3f667",
   "metadata": {},
   "outputs": [],
   "source": [
    "import json\n",
    "import random\n",
    "\n",
    "    \n",
    "test_format =  [\n",
    "                    {\n",
    "                        \"text\": \"Dog\",\n",
    "                        \"suffix_key\": \"a\",\n",
    "                        \"background_color\": \"#FF0000\",\n",
    "                        \"text_color\": \"#ffffff\"\n",
    "                    },\n",
    "                    {\n",
    "                        \"text\": \"Cat\",\n",
    "                        \"suffix_key\": \"c\",\n",
    "                        \"background_color\": \"#FF0000\",\n",
    "                        \"text_color\": \"#ffffff\"\n",
    "                    }\n",
    "                ]"
   ]
  },
  {
   "cell_type": "code",
   "execution_count": 4,
   "id": "e6bcc394-6876-42d7-a4f4-d73b6b5aa6f7",
   "metadata": {},
   "outputs": [
    {
     "data": {
      "text/plain": [
       "'Dog'"
      ]
     },
     "execution_count": 4,
     "metadata": {},
     "output_type": "execute_result"
    }
   ],
   "source": [
    "test_format[0].get('text')"
   ]
  },
  {
   "cell_type": "code",
   "execution_count": 17,
   "id": "730d2b25-b87c-41f7-ae71-3420d10e0cde",
   "metadata": {},
   "outputs": [],
   "source": [
    "suffix_key = [i for i in 'abcdefghijklmnopqrstuvwxyz1234567890ABCDEFGHIJKLMNOPQRSTUVWXYZ']"
   ]
  },
  {
   "cell_type": "code",
   "execution_count": 18,
   "id": "c3f9c9bc-6c57-48d1-92d9-893fdd8be64c",
   "metadata": {},
   "outputs": [
    {
     "name": "stdout",
     "output_type": "stream",
     "text": [
      "#C0CD96\n"
     ]
    }
   ],
   "source": [
    "r = lambda: random.randint(0,255)\n",
    "print('#%02X%02X%02X' % (r(),r(),r()))"
   ]
  },
  {
   "cell_type": "code",
   "execution_count": 38,
   "id": "e650790e-1a29-4b96-9c73-54c35e94e42c",
   "metadata": {},
   "outputs": [],
   "source": [
    "path = '/Users/rt853/repos/UoB/bath-persuasion-detection/notebooks/data_preprocessing/labels.txt'\n",
    "\n",
    "def fetch_labels(path):\n",
    "    with open(path) as file:\n",
    "\n",
    "        labels = file.read().splitlines()\n",
    "        \n",
    "    return labels"
   ]
  },
  {
   "cell_type": "code",
   "execution_count": 39,
   "id": "479c067e-9fb8-41c9-a61f-884529ca4599",
   "metadata": {},
   "outputs": [],
   "source": [
    "labels = fetch_labels(path)"
   ]
  },
  {
   "cell_type": "code",
   "execution_count": 40,
   "id": "ca6ae8fa-1926-4f8d-a9b7-0bbc0a504994",
   "metadata": {},
   "outputs": [],
   "source": [
    "def process_tags(labels):\n",
    "\n",
    "    text_color= \"#ffffff\"\n",
    "    jsonlist = []\n",
    "    for num, tag in enumerate(labels):\n",
    "\n",
    "        r = lambda: random.randint(0,255)\n",
    "        colour='#%02X%02X%02X' % (r(),r(),r())\n",
    "        suffix = suffix_key[num]\n",
    "\n",
    "        doccano_json = {\n",
    "                            \"text\": tag,\n",
    "                            \"suffix_key\": suffix,\n",
    "                            \"background_color\": colour,\n",
    "                            \"text_color\": \"#ffffff\"\n",
    "                        }\n",
    "\n",
    "        jsonlist.append(doccano_json)\n",
    "        \n",
    "    return jsonlist"
   ]
  },
  {
   "cell_type": "code",
   "execution_count": 42,
   "id": "f0c8fd4a-fddf-44fe-a937-36f7144acf45",
   "metadata": {},
   "outputs": [],
   "source": [
    "output_jsonlist = process_tags(labels)\n",
    "output_path = './all_tags.json'"
   ]
  },
  {
   "cell_type": "code",
   "execution_count": null,
   "id": "5a8b4906-3e6d-43fb-a5a1-2ec9c989d969",
   "metadata": {},
   "outputs": [],
   "source": []
  },
  {
   "cell_type": "code",
   "execution_count": 35,
   "id": "1e37574e-da5e-4341-b3b6-fdb30d8509a8",
   "metadata": {},
   "outputs": [],
   "source": [
    "def output(output_path, label_list):\n",
    "    \n",
    "    with open(output_path, 'w') as file:\n",
    "        \n",
    "        for item in label_list:\n",
    "            file.write(json.dumps(item))"
   ]
  },
  {
   "cell_type": "code",
   "execution_count": null,
   "id": "379b8848-0c21-4b66-a08b-897a34b3e0c4",
   "metadata": {},
   "outputs": [],
   "source": []
  },
  {
   "cell_type": "code",
   "execution_count": 36,
   "id": "13ec282e-0313-4ac6-87a6-5b2a88d657a8",
   "metadata": {},
   "outputs": [],
   "source": [
    "output(output_path, output_jsonlist)"
   ]
  },
  {
   "cell_type": "code",
   "execution_count": 43,
   "id": "7f3e3d84-6bf8-4496-8617-5a2da4f6cf2e",
   "metadata": {},
   "outputs": [],
   "source": [
    "out_file = open(output_path, \"w\")\n",
    "  \n",
    "json.dump(output_jsonlist, out_file, indent = 6)\n",
    "  \n",
    "out_file.close()"
   ]
  },
  {
   "cell_type": "code",
   "execution_count": null,
   "id": "97e15dba-ac51-49a4-9037-98bb74ce95a4",
   "metadata": {},
   "outputs": [],
   "source": []
  }
 ],
 "metadata": {
  "kernelspec": {
   "display_name": "Python 3 (ipykernel)",
   "language": "python",
   "name": "python3"
  },
  "language_info": {
   "codemirror_mode": {
    "name": "ipython",
    "version": 3
   },
   "file_extension": ".py",
   "mimetype": "text/x-python",
   "name": "python",
   "nbconvert_exporter": "python",
   "pygments_lexer": "ipython3",
   "version": "3.12.1"
  }
 },
 "nbformat": 4,
 "nbformat_minor": 5
}
