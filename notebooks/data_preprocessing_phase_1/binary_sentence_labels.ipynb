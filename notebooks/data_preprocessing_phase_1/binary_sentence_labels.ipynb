{
 "cells": [
  {
   "cell_type": "code",
   "execution_count": 3,
   "id": "401cd674-b921-4b66-889e-777c6bde06a4",
   "metadata": {},
   "outputs": [],
   "source": [
    "import pandas as pd \n"
   ]
  },
  {
   "cell_type": "code",
   "execution_count": 4,
   "id": "3a1f0d3a-5e64-413f-afcc-b74c77cfb215",
   "metadata": {},
   "outputs": [],
   "source": [
    "df_1pat = '../../data/phase_2_data/processed/phase_2_partial_complete.csv'\n"
   ]
  },
  {
   "cell_type": "code",
   "execution_count": 5,
   "id": "91a1f604-b7fa-4680-8e0c-7a390c50219a",
   "metadata": {},
   "outputs": [],
   "source": [
    "df = pd.read_csv(df_1pat)\n"
   ]
  },
  {
   "cell_type": "code",
   "execution_count": 6,
   "id": "0a71f72c-997a-46ca-8c80-aec024ac69c1",
   "metadata": {},
   "outputs": [
    {
     "ename": "NameError",
     "evalue": "name 'all_d' is not defined",
     "output_type": "error",
     "traceback": [
      "\u001b[0;31m---------------------------------------------------------------------------\u001b[0m",
      "\u001b[0;31mNameError\u001b[0m                                 Traceback (most recent call last)",
      "Cell \u001b[0;32mIn[6], line 10\u001b[0m\n\u001b[1;32m      3\u001b[0m ds \u001b[38;5;241m=\u001b[39m {\n\u001b[1;32m      4\u001b[0m     \u001b[38;5;124m'\u001b[39m\u001b[38;5;124mtext\u001b[39m\u001b[38;5;124m'\u001b[39m: [],\n\u001b[1;32m      5\u001b[0m     \u001b[38;5;124m'\u001b[39m\u001b[38;5;124mlabel\u001b[39m\u001b[38;5;124m'\u001b[39m : [],\n\u001b[1;32m      6\u001b[0m     \u001b[38;5;124m'\u001b[39m\u001b[38;5;124mbinary_label\u001b[39m\u001b[38;5;124m'\u001b[39m : [],\n\u001b[1;32m      7\u001b[0m     \u001b[38;5;124m'\u001b[39m\u001b[38;5;124mtarget_column\u001b[39m\u001b[38;5;124m'\u001b[39m : []\n\u001b[1;32m      8\u001b[0m }\n\u001b[1;32m      9\u001b[0m datasets[column] \u001b[38;5;241m=\u001b[39m ds\n\u001b[0;32m---> 10\u001b[0m \u001b[38;5;28;01mfor\u001b[39;00m idx, row \u001b[38;5;129;01min\u001b[39;00m \u001b[43mall_d\u001b[49m\u001b[38;5;241m.\u001b[39miterrows():\n\u001b[1;32m     11\u001b[0m     datasets[column][\u001b[38;5;124m'\u001b[39m\u001b[38;5;124mtext\u001b[39m\u001b[38;5;124m'\u001b[39m]\u001b[38;5;241m.\u001b[39mappend(row\u001b[38;5;241m.\u001b[39mtext)\n\u001b[1;32m     12\u001b[0m     datasets[column][\u001b[38;5;124m'\u001b[39m\u001b[38;5;124mlabel\u001b[39m\u001b[38;5;124m'\u001b[39m]\u001b[38;5;241m.\u001b[39mappend(row\u001b[38;5;241m.\u001b[39mkeys()[row[\u001b[38;5;241m1\u001b[39m:]\u001b[38;5;241m.\u001b[39mvalues\u001b[38;5;241m.\u001b[39margmax()\u001b[38;5;241m+\u001b[39m\u001b[38;5;241m1\u001b[39m])\n",
      "\u001b[0;31mNameError\u001b[0m: name 'all_d' is not defined"
     ]
    }
   ],
   "source": [
    "\n",
    "\n",
    "datasets = {}\n",
    "for column in df.columns[1:]:\n",
    "    ds = {\n",
    "        'text': [],\n",
    "        'label' : [],\n",
    "        'binary_label' : [],\n",
    "        'target_column' : []\n",
    "    }\n",
    "    datasets[column] = ds\n",
    "    for idx, row in all_d.iterrows():\n",
    "        datasets[column]['text'].append(row.text)\n",
    "        datasets[column]['label'].append(row.keys()[row[1:].values.argmax()+1])\n",
    "        datasets[column]['binary_label'].append(row[column])\n",
    "        datasets[column]['target_column'].append(column)\n"
   ]
  },
  {
   "cell_type": "code",
   "execution_count": 62,
   "id": "0bd246cf-d936-46bf-8d57-e479579a8dc3",
   "metadata": {},
   "outputs": [],
   "source": [
    "for key, val in datasets.items():\n",
    "\n",
    "    df = pd.DataFrame(val)\n",
    "    df.to_csv('/Users/rt853/repos/UoB/bath-persuasion-detection/data/binary_sentence_level/' + key + 'binary_sentence.csv', index=False)\n"
   ]
  },
  {
   "cell_type": "code",
   "execution_count": null,
   "id": "23ae8467-81ef-4feb-af77-1828c507ec24",
   "metadata": {},
   "outputs": [],
   "source": []
  },
  {
   "cell_type": "code",
   "execution_count": null,
   "id": "80f787b7-f337-4be7-909f-3566bbb5f9c2",
   "metadata": {},
   "outputs": [],
   "source": []
  }
 ],
 "metadata": {
  "kernelspec": {
   "display_name": "Python 3 (ipykernel)",
   "language": "python",
   "name": "python3"
  },
  "language_info": {
   "codemirror_mode": {
    "name": "ipython",
    "version": 3
   },
   "file_extension": ".py",
   "mimetype": "text/x-python",
   "name": "python",
   "nbconvert_exporter": "python",
   "pygments_lexer": "ipython3",
   "version": "3.12.1"
  }
 },
 "nbformat": 4,
 "nbformat_minor": 5
}
