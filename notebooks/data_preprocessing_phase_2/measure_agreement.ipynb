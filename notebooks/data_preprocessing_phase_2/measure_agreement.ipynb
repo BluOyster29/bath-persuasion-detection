{
 "cells": [
  {
   "cell_type": "code",
   "execution_count": 1,
   "metadata": {},
   "outputs": [],
   "source": [
    "import pandas as pd \n",
    "import sys\n",
    "sys.path.append('../../src/data_preprocessing/')\n",
    "\n",
    "from process_doccano_output import main\n",
    "\n",
    "class Args: \n",
    "    def __init__(self, output_folder_path, output_df_path=None, \n",
    "                 drop_bottom_level=None): \n",
    "        self.output_folder_path = output_folder_path\n",
    "        self.output_df_path = output_df_path\n",
    "        self.drop_bottom_level = drop_bottom_level\n",
    "        \n",
    "args = Args('/Users/rt853/repos/UoB/bath-persuasion-detection/data/phase_2_data/output_from_doccano/output_phase_2_partial_complete',\n",
    "            None,\n",
    "            True)\n",
    "\n",
    "df = main(args)\n"
   ]
  },
  {
   "cell_type": "code",
   "execution_count": 2,
   "metadata": {},
   "outputs": [],
   "source": [
    "labels = [\n",
    "    '1-RAPPORT',\n",
    "    '2-NEGOTIATE',\n",
    "    '3-EMOTION',\n",
    "    '4-LOGIC',\n",
    "    '5-AUTHORITY',\n",
    "    '6-SOCIAL',\n",
    "    '7-PRESSURE',\n",
    "    '8-NO-PERSUASION'\n",
    "]\n",
    "\n",
    "label2idx = {label : idx for idx, label in enumerate(labels)}\n"
   ]
  },
  {
   "cell_type": "code",
   "execution_count": 3,
   "metadata": {},
   "outputs": [
    {
     "data": {
      "text/plain": [
       "{'1-RAPPORT': 0,\n",
       " '2-NEGOTIATE': 1,\n",
       " '3-EMOTION': 2,\n",
       " '4-LOGIC': 3,\n",
       " '5-AUTHORITY': 4,\n",
       " '6-SOCIAL': 5,\n",
       " '7-PRESSURE': 6,\n",
       " '8-NO-PERSUASION': 7}"
      ]
     },
     "execution_count": 3,
     "metadata": {},
     "output_type": "execute_result"
    }
   ],
   "source": [
    "label2idx\n"
   ]
  },
  {
   "cell_type": "code",
   "execution_count": 8,
   "metadata": {},
   "outputs": [],
   "source": [
    "import numpy as np\n",
    "def one_hot_vector(annotation, label2idx):\n",
    "    empty_vec = np.zeros(len(label2idx))\n",
    "    for label in annotation.split('/'): \n",
    "        if label == '8-NO':\n",
    "            label = '8-NO-PERSUASION'\n",
    "        empty_vec[label2idx[label]] = 1\n",
    "    return empty_vec \n"
   ]
  },
  {
   "cell_type": "code",
   "execution_count": 9,
   "metadata": {},
   "outputs": [],
   "source": [
    "ag = {}\n",
    "for user in df.columns[1:]:\n",
    "    ag[user] = []\n",
    "    user_labels = df[user]\n",
    "    \n",
    "    for label in user_labels:\n",
    "        vectors = one_hot_vector(label, label2idx)\n",
    "        ag[user].append(vectors)\n"
   ]
  },
  {
   "cell_type": "code",
   "execution_count": 10,
   "metadata": {},
   "outputs": [],
   "source": [
    "import re \n",
    "\n",
    "def clean_text(text):\n",
    "    text = re.sub('Victim: ', '', text)\n",
    "    text = re.sub('Persuader: ', '', text)\n",
    "    return text \n"
   ]
  },
  {
   "cell_type": "code",
   "execution_count": 11,
   "metadata": {},
   "outputs": [],
   "source": [
    "from torch.nn import Softmax\n",
    "import torch \n",
    "\n",
    "softmax = Softmax(dim=0)\n",
    "idx2label = {idx : label for label, idx in label2idx.items()}\n",
    "vectorised = pd.DataFrame(ag)\n",
    "\n",
    "for idx, row in vectorised.iterrows():\n",
    "    vectorised.at[idx, 'gold'] = idx2label[softmax(torch.Tensor(sum(row.values))).argmax().item()]\n",
    "    \n",
    "vectorised['text'] = df['text'].apply(lambda x : clean_text(x))\n",
    "vectorised_w_users= vectorised[['text', 'gold'] + [col for col in vectorised.columns if col != 'gold' and col != 'text']]\n",
    "\n"
   ]
  },
  {
   "cell_type": "code",
   "execution_count": 12,
   "metadata": {},
   "outputs": [],
   "source": [
    "# vectorised.to_csv('../../data/phase_2_data/processed/phase_2_partial_complete.csv', index=False)\n"
   ]
  },
  {
   "cell_type": "code",
   "execution_count": 18,
   "metadata": {},
   "outputs": [],
   "source": [
    "def cosine_similarity(vector_a, vector_b):\n",
    "    \"\"\"Calculate the cosine similarity between two vectors.\"\"\"\n",
    "    dot_product = np.dot(vector_a, vector_b)\n",
    "    norm_a = np.linalg.norm(vector_a)\n",
    "    norm_b = np.linalg.norm(vector_b)\n",
    "    return dot_product / (norm_a * norm_b)\n"
   ]
  },
  {
   "cell_type": "code",
   "execution_count": 40,
   "metadata": {},
   "outputs": [],
   "source": [
    "def measure_agreement(df, user_1, user_2):\n",
    "\n",
    "    avg_cosine_similarity = 0 \n",
    "    user_a_vectors = []\n",
    "    user_b_vectors = []\n",
    "\n",
    "    for vec_1, vec_2 in zip(\n",
    "        df[user_1].values,\n",
    "        df[user_2].values):\n",
    "            \n",
    "        avg_cosine_similarity += cosine_similarity(vec_1, vec_2)\n",
    "        user_a_vectors.extend(list(vec_1))\n",
    "        user_b_vectors.extend(list(vec_2))\n",
    "    avg_cosine_similarity /= len(vectorised_w_users)\n",
    "    \n",
    "    return user_a_vectors, user_b_vectors, avg_cosine_similarity\n"
   ]
  },
  {
   "cell_type": "code",
   "execution_count": 73,
   "metadata": {},
   "outputs": [],
   "source": [
    "import krippendorff\n",
    "from sklearn.metrics import cohen_kappa_score\n",
    "\n",
    "def calc_observed_agreement(user_1_vec, user_2_vec):\n",
    "    \n",
    "    agreement = 0\n",
    "    num_items = 0\n",
    "    for val_1, val_2 in zip(user_1_vec, user_2_vec):\n",
    "        \n",
    "        if val_1 == val_2:\n",
    "            agreement += 1\n",
    "            num_items += 1\n",
    "        \n",
    "        else:\n",
    "            num_items += 1\n",
    "    return agreement / num_items\n"
   ]
  },
  {
   "cell_type": "code",
   "execution_count": 85,
   "metadata": {},
   "outputs": [],
   "source": [
    "user_map = {}\n",
    "user_map['metrics'] = ['kripp_alpha', 'cohen_kappa', 'observed_agreement']\n",
    "\n",
    "for user_1 in vectorised_w_users.columns[2:]:\n",
    "    for user_2 in vectorised_w_users.columns[2:]:\n",
    "        \n",
    "        pair = user_1 + '->' + user_2\n",
    "        \n",
    "        if (user_2 + '->' + user_1) in user_map:\n",
    "            continue\n",
    "        \n",
    "        if user_2 == user_1:\n",
    "            continue \n",
    "        \n",
    "        user_a_vectors, user_b_vectors, avg_cosine_similarity = measure_agreement(vectorised_w_users, user_1, user_2)\n",
    "        \n",
    "        kripp_a = round(krippendorff.alpha([user_a_vectors , user_b_vectors]),4)\n",
    "        kappa = round(cohen_kappa_score(user_a_vectors, user_b_vectors),4)\n",
    "        observed_agreement = round(calc_observed_agreement(list(user_a_vectors), list(user_b_vectors)),4)\n",
    "        user_map[pair] = (kripp_a, kappa, observed_agreement)\n",
    "                \n",
    "                \n"
   ]
  },
  {
   "cell_type": "code",
   "execution_count": 86,
   "metadata": {},
   "outputs": [],
   "source": [
    "pd.DataFrame(user_map).to_csv('../../data/phase_2_data/processed/agreement_metrics_phase_2_partial_complete.csv', index=False)\n"
   ]
  },
  {
   "cell_type": "code",
   "execution_count": null,
   "metadata": {},
   "outputs": [],
   "source": []
  },
  {
   "cell_type": "code",
   "execution_count": null,
   "metadata": {},
   "outputs": [],
   "source": []
  }
 ],
 "metadata": {
  "kernelspec": {
   "display_name": ".venv",
   "language": "python",
   "name": "python3"
  },
  "language_info": {
   "codemirror_mode": {
    "name": "ipython",
    "version": 3
   },
   "file_extension": ".py",
   "mimetype": "text/x-python",
   "name": "python",
   "nbconvert_exporter": "python",
   "pygments_lexer": "ipython3",
   "version": "3.12.1"
  }
 },
 "nbformat": 4,
 "nbformat_minor": 2
}
