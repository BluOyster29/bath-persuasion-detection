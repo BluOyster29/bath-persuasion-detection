{
 "cells": [
  {
   "cell_type": "code",
   "execution_count": 1,
   "metadata": {},
   "outputs": [],
   "source": [
    "import pandas as pd \n",
    "import sys\n",
    "sys.path.append('../../src/data_preprocessing/')\n",
    "\n",
    "from process_doccano_output import main\n",
    "\n",
    "class Args: \n",
    "    def __init__(self, output_folder_path, output_df_path=None, \n",
    "                 drop_bottom_level=None): \n",
    "        self.output_folder_path = output_folder_path\n",
    "        self.output_df_path = output_df_path\n",
    "        self.drop_bottom_level = drop_bottom_level\n",
    "        \n",
    "args = Args('/Users/rt853/repos/UoB/bath-persuasion-detection/data/phase_2_data/output_from_doccano/output_phase_2_partial_complete',\n",
    "            None,\n",
    "            True)\n",
    "\n",
    "df = main(args)\n"
   ]
  },
  {
   "cell_type": "code",
   "execution_count": 18,
   "metadata": {},
   "outputs": [],
   "source": [
    "labels = [\n",
    "    '1-RAPPORT',\n",
    "    '2-NEGOTIATE',\n",
    "    '3-EMOTION',\n",
    "    '4-LOGIC',\n",
    "    '5-AUTHORITY',\n",
    "    '6-SOCIAL',\n",
    "    '7-PRESSURE',\n",
    "    '8-NO-PERSUASION'\n",
    "]\n",
    "\n",
    "label2idx = {label : idx for idx, label in enumerate(labels)}\n"
   ]
  },
  {
   "cell_type": "code",
   "execution_count": 19,
   "metadata": {},
   "outputs": [
    {
     "data": {
      "text/plain": [
       "{'1-RAPPORT': 0,\n",
       " '2-NEGOTIATE': 1,\n",
       " '3-EMOTION': 2,\n",
       " '4-LOGIC': 3,\n",
       " '5-AUTHORITY': 4,\n",
       " '6-SOCIAL': 5,\n",
       " '7-PRESSURE': 6,\n",
       " '8-NO-PERSUASION': 7}"
      ]
     },
     "execution_count": 19,
     "metadata": {},
     "output_type": "execute_result"
    }
   ],
   "source": [
    "label2idx\n"
   ]
  },
  {
   "cell_type": "code",
   "execution_count": 25,
   "metadata": {},
   "outputs": [],
   "source": [
    "ag = {}\n",
    "for user in df.columns[1:]:\n",
    "    ag[user] = []\n",
    "    user_labels = df[user]\n",
    "    \n",
    "    for label in user_labels:\n",
    "        vectors = one_hot_vector(label, label2idx)\n",
    "        ag[user].append(vectors)\n"
   ]
  },
  {
   "cell_type": "code",
   "execution_count": 24,
   "metadata": {},
   "outputs": [],
   "source": [
    "import numpy as np\n",
    "def one_hot_vector(annotation, label2idx):\n",
    "    empty_vec = np.zeros(len(label2idx))\n",
    "    for label in annotation.split('/'): \n",
    "        if label == '8-NO':\n",
    "            label = '8-NO-PERSUASION'\n",
    "        empty_vec[label2idx[label]] = 1\n",
    "    return empty_vec \n"
   ]
  },
  {
   "cell_type": "code",
   "execution_count": 63,
   "metadata": {},
   "outputs": [],
   "source": [
    "import re \n",
    "\n",
    "def clean_text(text):\n",
    "    text = re.sub('Victim: ', '', text)\n",
    "    text = re.sub('Persuader: ', '', text)\n",
    "    return text \n"
   ]
  },
  {
   "cell_type": "code",
   "execution_count": 65,
   "metadata": {},
   "outputs": [],
   "source": [
    "from torch.nn import Softmax\n",
    "import torch \n",
    "\n",
    "softmax = Softmax(dim=0)\n",
    "idx2label = {idx : label for label, idx in label2idx.items()}\n",
    "vectorised = pd.DataFrame(ag)\n",
    "\n",
    "for idx, row in vectorised.iterrows():\n",
    "    vectorised.at[idx, 'gold'] = idx2label[softmax(torch.Tensor(sum(row.values))).argmax().item()]\n",
    "    \n",
    "vectorised['text'] = df['text'].apply(lambda x : clean_text(x))\n",
    "vectorised= vectorised[['text', 'gold']] # v  + [col for col in vectorised.columns if col != 'gold' and col != 'text']]\n",
    "\n"
   ]
  },
  {
   "cell_type": "code",
   "execution_count": 67,
   "metadata": {},
   "outputs": [],
   "source": [
    "vectorised.to_csv('../../data/phase_2_data/processed/phase_2_partial_complete.csv', index=False)\n"
   ]
  },
  {
   "cell_type": "code",
   "execution_count": null,
   "metadata": {},
   "outputs": [],
   "source": []
  },
  {
   "cell_type": "code",
   "execution_count": null,
   "metadata": {},
   "outputs": [],
   "source": []
  }
 ],
 "metadata": {
  "kernelspec": {
   "display_name": ".venv",
   "language": "python",
   "name": "python3"
  },
  "language_info": {
   "codemirror_mode": {
    "name": "ipython",
    "version": 3
   },
   "file_extension": ".py",
   "mimetype": "text/x-python",
   "name": "python",
   "nbconvert_exporter": "python",
   "pygments_lexer": "ipython3",
   "version": "3.12.1"
  }
 },
 "nbformat": 4,
 "nbformat_minor": 2
}
