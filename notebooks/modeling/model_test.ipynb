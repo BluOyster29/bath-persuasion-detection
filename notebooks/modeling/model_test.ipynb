{
 "cells": [
  {
   "cell_type": "code",
   "execution_count": 1,
   "metadata": {},
   "outputs": [],
   "source": [
    "import sys \n",
    "\n",
    "sys.path.append('/Users/rt853/repos/UoB/bath-persuasion-detection/src/')\n"
   ]
  },
  {
   "cell_type": "code",
   "execution_count": 11,
   "metadata": {},
   "outputs": [],
   "source": [
    "import pandas as pd \n",
    "\n",
    "df = pd.read_csv('/Users/rt853/repos/UoB/bath-persuasion-detection/data/binary_sentence_level/2-NEGOTIATEbinary_sentence.csv')\n"
   ]
  },
  {
   "cell_type": "code",
   "execution_count": 12,
   "metadata": {},
   "outputs": [
    {
     "data": {
      "text/html": [
       "<div>\n",
       "<style scoped>\n",
       "    .dataframe tbody tr th:only-of-type {\n",
       "        vertical-align: middle;\n",
       "    }\n",
       "\n",
       "    .dataframe tbody tr th {\n",
       "        vertical-align: top;\n",
       "    }\n",
       "\n",
       "    .dataframe thead th {\n",
       "        text-align: right;\n",
       "    }\n",
       "</style>\n",
       "<table border=\"1\" class=\"dataframe\">\n",
       "  <thead>\n",
       "    <tr style=\"text-align: right;\">\n",
       "      <th></th>\n",
       "      <th>text</th>\n",
       "      <th>label</th>\n",
       "      <th>binary_label</th>\n",
       "      <th>target_column</th>\n",
       "    </tr>\n",
       "  </thead>\n",
       "  <tbody>\n",
       "    <tr>\n",
       "      <th>0</th>\n",
       "      <td>Hi.</td>\n",
       "      <td>8-NO-PERSUASION</td>\n",
       "      <td>0</td>\n",
       "      <td>2-NEGOTIATE</td>\n",
       "    </tr>\n",
       "    <tr>\n",
       "      <th>1</th>\n",
       "      <td>not much.</td>\n",
       "      <td>8-NO-PERSUASION</td>\n",
       "      <td>0</td>\n",
       "      <td>2-NEGOTIATE</td>\n",
       "    </tr>\n",
       "    <tr>\n",
       "      <th>2</th>\n",
       "      <td>do you donate to any charities</td>\n",
       "      <td>1-RAPPORT</td>\n",
       "      <td>0</td>\n",
       "      <td>2-NEGOTIATE</td>\n",
       "    </tr>\n",
       "    <tr>\n",
       "      <th>3</th>\n",
       "      <td>Howmuch do you think you can donate</td>\n",
       "      <td>2-NEGOTIATE</td>\n",
       "      <td>1</td>\n",
       "      <td>2-NEGOTIATE</td>\n",
       "    </tr>\n",
       "    <tr>\n",
       "      <th>4</th>\n",
       "      <td>That's great.</td>\n",
       "      <td>1-RAPPORT</td>\n",
       "      <td>0</td>\n",
       "      <td>2-NEGOTIATE</td>\n",
       "    </tr>\n",
       "  </tbody>\n",
       "</table>\n",
       "</div>"
      ],
      "text/plain": [
       "                                  text            label  binary_label  \\\n",
       "0                                  Hi.  8-NO-PERSUASION             0   \n",
       "1                            not much.  8-NO-PERSUASION             0   \n",
       "2       do you donate to any charities        1-RAPPORT             0   \n",
       "3  Howmuch do you think you can donate      2-NEGOTIATE             1   \n",
       "4                        That's great.        1-RAPPORT             0   \n",
       "\n",
       "  target_column  \n",
       "0   2-NEGOTIATE  \n",
       "1   2-NEGOTIATE  \n",
       "2   2-NEGOTIATE  \n",
       "3   2-NEGOTIATE  \n",
       "4   2-NEGOTIATE  "
      ]
     },
     "execution_count": 12,
     "metadata": {},
     "output_type": "execute_result"
    }
   ],
   "source": [
    "df.head()\n"
   ]
  },
  {
   "cell_type": "code",
   "execution_count": 13,
   "metadata": {},
   "outputs": [],
   "source": [
    "from data_processing.persuasion_strategy_dataset import PersuasionDataset\n"
   ]
  },
  {
   "cell_type": "code",
   "execution_count": 14,
   "metadata": {},
   "outputs": [],
   "source": [
    "ds = PersuasionDataset(\n",
    "    df,\n",
    "    task='binary_classification',\n",
    "    tokenizer='roberta-base'\n",
    ")\n"
   ]
  },
  {
   "cell_type": "code",
   "execution_count": null,
   "metadata": {},
   "outputs": [],
   "source": []
  }
 ],
 "metadata": {
  "kernelspec": {
   "display_name": ".venv",
   "language": "python",
   "name": "python3"
  },
  "language_info": {
   "codemirror_mode": {
    "name": "ipython",
    "version": 3
   },
   "file_extension": ".py",
   "mimetype": "text/x-python",
   "name": "python",
   "nbconvert_exporter": "python",
   "pygments_lexer": "ipython3",
   "version": "3.12.1"
  }
 },
 "nbformat": 4,
 "nbformat_minor": 2
}
