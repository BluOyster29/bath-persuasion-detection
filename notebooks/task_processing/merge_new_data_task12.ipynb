{
 "cells": [
  {
   "cell_type": "code",
   "execution_count": 38,
   "id": "f9bc7739-e1df-4b89-9d59-7169481ab708",
   "metadata": {},
   "outputs": [],
   "source": [
    "import pandas as pd\n",
    "import numpy as np "
   ]
  },
  {
   "cell_type": "code",
   "execution_count": 141,
   "id": "f682213d-8616-482e-80db-1e8daca73f56",
   "metadata": {},
   "outputs": [],
   "source": [
    "def find_shorter_df(a_1, a_2):\n",
    "    if len(a_1) < len(a_2):\n",
    "        return a_1, a_2\n",
    "    else:\n",
    "        return a_2, a_1\n",
    "\n",
    "def pad_one_hot_vectors(shorter_array, longer_length):\n",
    "    padded_array = np.zeros((longer_length, shorter_array.shape[1]))\n",
    "    padded_array[:shorter_array.shape[0], :] = shorter_array\n",
    "    return padded_array\n",
    "    \n",
    "def load_pairs(df_1_path, df_2_path):\n",
    "    \n",
    "    df1 = pd.read_csv(df_1_path)\n",
    "    df2 = pd.read_csv(df_2_path)\n",
    "\n",
    "    shorter_df, longer_df = find_shorter_df(df1, df2)\n",
    "    \n",
    "    mat_1 = shorter_df[shorter_df.columns[1:]].to_numpy()\n",
    "    mat_2 = longer_df[longer_df.columns[1:]].to_numpy()\n",
    "\n",
    "    if len(mat_1) != len(mat_2):\n",
    "        mat_1, mat_2 = find_shorter_array(mat_1, mat_2)\n",
    "        mat_1 = pad_one_hot_vectors(mat_1, len(mat_2))\n",
    "        \n",
    "    return gen_df(\n",
    "        longer_df.text.tolist(),\n",
    "        df1.columns,\n",
    "        np.clip(mat_1 + mat_2 , a_min=0, a_max=1)\n",
    "    )\n",
    "\n",
    "def gen_df(texts, columns, matrix):\n",
    "\n",
    "    data = {i : [] for i in columns}\n",
    "    data['text'] = texts\n",
    "    \n",
    "    for col_name, nums in zip(columns[1:], matrix.transpose(-1, 0)):\n",
    "        data[col_name] = nums.astype(int)\n",
    "        \n",
    "    return pd.DataFrame(data)"
   ]
  },
  {
   "cell_type": "code",
   "execution_count": 142,
   "id": "2e6c5394-3f61-4ef5-9a0e-599d71c129c1",
   "metadata": {},
   "outputs": [],
   "source": [
    "task_1 = load_pairs('./data/testing/brit_task_1.csv', './data/testing/rob_task_1.csv')\n",
    "task_2 = load_pairs('./data/testing/brit_task_2.csv', './data/testing/rob_task_2.csv')\n",
    "task_3 = load_pairs('./data/testing/brit_task_3.csv', './data/testing/rob_task_3.csv')"
   ]
  },
  {
   "cell_type": "code",
   "execution_count": 146,
   "id": "bf862673-a179-4e6f-882c-07e3e7516dd0",
   "metadata": {},
   "outputs": [],
   "source": [
    "extended_data = pd.concat([task_1,\n",
    "                           task_2,\n",
    "                           task_3]\n",
    "                           )"
   ]
  },
  {
   "cell_type": "code",
   "execution_count": 148,
   "id": "f6b347cf-3ecd-48ce-9dc9-daa438a6734a",
   "metadata": {},
   "outputs": [],
   "source": [
    "extended_data.to_csv('./data/raw/new_task_total.csv', index=False)"
   ]
  }
 ],
 "metadata": {
  "kernelspec": {
   "display_name": "Python 3 (ipykernel)",
   "language": "python",
   "name": "python3"
  },
  "language_info": {
   "codemirror_mode": {
    "name": "ipython",
    "version": 3
   },
   "file_extension": ".py",
   "mimetype": "text/x-python",
   "name": "python",
   "nbconvert_exporter": "python",
   "pygments_lexer": "ipython3",
   "version": "3.12.1"
  }
 },
 "nbformat": 4,
 "nbformat_minor": 5
}
