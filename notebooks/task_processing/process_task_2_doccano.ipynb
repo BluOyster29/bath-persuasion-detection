{
 "cells": [
  {
   "cell_type": "code",
   "execution_count": 70,
   "id": "5d656578-cc51-4ed1-bb50-35f44353f8df",
   "metadata": {},
   "outputs": [],
   "source": [
    "import pandas as pd \n",
    "import json \n"
   ]
  },
  {
   "cell_type": "code",
   "execution_count": 89,
   "id": "d5f2e4b5-2d8f-4124-944e-31c6614b7456",
   "metadata": {},
   "outputs": [],
   "source": [
    "with open('/Users/rt853/repos/UoB/bath-persuasion-detection/data/annotation/output_frm_doccano/task-3-antiscam/robAdmin.jsonl', 'rb') as file:\n",
    "    jsonl = file.read().splitlines()\n"
   ]
  },
  {
   "cell_type": "code",
   "execution_count": 90,
   "id": "febd91ba-b4c9-4f7b-a0b0-614acff4bf4e",
   "metadata": {},
   "outputs": [],
   "source": [
    "def gen_idx_map(text):\n",
    "\n",
    "    start_idx = 0\n",
    "    idx_map = {}\n",
    "    \n",
    "    for idx, i in enumerate(text.split('\\n')):\n",
    "        \n",
    "        end_idx = start_idx + len(i)\n",
    "        idx_map[idx] = (start_idx, end_idx)\n",
    "        start_idx = end_idx\n",
    "    return idx_map\n"
   ]
  },
  {
   "cell_type": "code",
   "execution_count": 91,
   "id": "8084f2fb-c0e6-40d4-bd10-124dcc4114eb",
   "metadata": {},
   "outputs": [],
   "source": [
    "def add_labels_to_text(text, labels):\n",
    "\n",
    "    idx_map = gen_idx_map(text)\n",
    "    splat_text = text.split('\\n')\n",
    "    for label in labels:\n",
    "        \n",
    "        start_idx, end_idx ,label = label\n",
    "        for idx, (s, e) in idx_map.items():\n",
    "            if end_idx <= e:\n",
    "                splat_text[idx] += ' - ' + label\n",
    "                break\n",
    "    return splat_text \n"
   ]
  },
  {
   "cell_type": "code",
   "execution_count": 92,
   "id": "f33e2573-9e79-4f71-90c7-8ca67df7bb50",
   "metadata": {},
   "outputs": [],
   "source": [
    "def process_transcripts(jsonl, text_class=None):\n",
    "\n",
    "    transcripts = []\n",
    "    for idx, line in enumerate(jsonl):\n",
    "        j = json.loads(line)\n",
    "        text = j['text']\n",
    "        labels = j['label']\n",
    "        if len(labels) < 1:\n",
    "            break\n",
    "        if text_class:\n",
    "            transcripts.append((text, labels))\n",
    "        else:\n",
    "        \n",
    "            transcripts.append(add_labels_to_text(text, labels))\n",
    "        \n",
    "    return transcripts\n"
   ]
  },
  {
   "cell_type": "code",
   "execution_count": 93,
   "id": "25139e67-cb63-418b-aae6-cc687b498264",
   "metadata": {},
   "outputs": [],
   "source": [
    "def process_line(line):\n",
    "\n",
    "    split_line = line.split(' - ')\n",
    "    \n",
    "    if len(split_line) > 2:\n",
    "        text, label = split_line[0], split_line[1:]\n",
    "        \n",
    "    elif len(split_line) < 2:\n",
    "        text, label = line, ['8-NO-PERSUASION']\n",
    "        \n",
    "    else:\n",
    "        text, label = line.split(' - ')\n",
    "\n",
    "\n",
    "    return text[10:], label\n"
   ]
  },
  {
   "cell_type": "code",
   "execution_count": 94,
   "id": "d963bb98-20a3-4b85-9487-d8d8ad33d841",
   "metadata": {},
   "outputs": [],
   "source": [
    "import re \n",
    "\n",
    "label_columns = [\n",
    "    '1-RAPPORT',\n",
    "    '2-NEGOTIATE',\n",
    "    '3-EMOTION',\n",
    "    '4-LOGIC',\n",
    "    '5-AUTHORITY',\n",
    "    '6-SOCIAL',\n",
    "    '7-PRESSURE',\n",
    "    '8-NO-PERSUASION'\n",
    "]\n",
    "\n",
    "def update_labels(label_columns, data, labels:list):\n",
    "    if not isinstance(labels, list):\n",
    "        labels = [labels]\n",
    "        \n",
    "    for i in label_columns:\n",
    "        if i in labels:\n",
    "            data[i].append(1)\n",
    "        else:\n",
    "            data[i].append(0)\n",
    "    return data\n",
    "    \n",
    "def generate_dataframe(jsonl, label_columns):\n",
    "\n",
    "    transcripts = process_transcripts(jsonl)\n",
    "    \n",
    "    data = {i : [] for i in label_columns}\n",
    "    data['text'] = []\n",
    "    \n",
    "    for t in transcripts:\n",
    "        for line in t:\n",
    "            \n",
    "            if re.match('Persuader:', line):\n",
    "                text, label = process_line(line)\n",
    "                data['text'].append(text)\n",
    "                data = update_labels(label_columns, data, label)\n",
    "                \n",
    "            else:\n",
    "                continue\n",
    "    df = pd.DataFrame(data)\n",
    "    return df[['text'] + label_columns]\n"
   ]
  },
  {
   "cell_type": "code",
   "execution_count": 95,
   "id": "337cff3d-f985-424b-bd9b-06665bcccc2d",
   "metadata": {},
   "outputs": [],
   "source": [
    "df = generate_dataframe(jsonl, label_columns)\n"
   ]
  },
  {
   "cell_type": "code",
   "execution_count": 96,
   "id": "efccb1b5-cc5a-4fb8-8e37-e06cd84f1c9b",
   "metadata": {},
   "outputs": [],
   "source": [
    "df.to_csv('../data/testing/rob_task_3.csv', index=False)\n"
   ]
  },
  {
   "cell_type": "code",
   "execution_count": 72,
   "id": "957ae97d-de7a-43d5-8e77-93f7aa9b48c9",
   "metadata": {},
   "outputs": [],
   "source": [
    "data = {\n",
    "    'text' : [],\n",
    "    '1-RAPPORT' : [],\n",
    "    '2-NEGOTIATE' : [],\n",
    "    '3-EMOTION' : [],\n",
    "    '4-LOGIC' : [],\n",
    "    '5-AUTHORITY' : [],\n",
    "    '6-SOCIAL' : [],\n",
    "    '7-PRESSURE' : [],\n",
    "    '8-NO-PERSUASION' : []\n",
    "}\n",
    "for i in jsonl:\n",
    "    j = json.loads(i)\n",
    "    if len(j['label']) < 1:\n",
    "        continue\n",
    "    data['text'].append(j['text'])\n",
    "    for label in label_columns:\n",
    "        if label in j['label']:\n",
    "            data[label].append(1)\n",
    "        else:\n",
    "            data[label].append(0)\n",
    "\n"
   ]
  },
  {
   "cell_type": "code",
   "execution_count": 73,
   "id": "83a56d21",
   "metadata": {},
   "outputs": [],
   "source": [
    "df=pd.DataFrame(data).to_csv('../data/testing/rob_task_1.csv', index=False)\n"
   ]
  },
  {
   "cell_type": "code",
   "execution_count": null,
   "id": "5fc19f38",
   "metadata": {},
   "outputs": [],
   "source": []
  }
 ],
 "metadata": {
  "kernelspec": {
   "display_name": "Python 3 (ipykernel)",
   "language": "python",
   "name": "python3"
  },
  "language_info": {
   "codemirror_mode": {
    "name": "ipython",
    "version": 3
   },
   "file_extension": ".py",
   "mimetype": "text/x-python",
   "name": "python",
   "nbconvert_exporter": "python",
   "pygments_lexer": "ipython3",
   "version": "3.9.6"
  }
 },
 "nbformat": 4,
 "nbformat_minor": 5
}
