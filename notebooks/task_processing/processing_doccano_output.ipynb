{
 "cells": [
  {
   "cell_type": "code",
   "execution_count": 22,
   "id": "e2a25757-4254-4cbe-b948-a164ba3020fb",
   "metadata": {},
   "outputs": [],
   "source": [
    "import pandas as pd"
   ]
  },
  {
   "cell_type": "code",
   "execution_count": 32,
   "id": "8cf8ad03-b4c1-421a-91e2-ff2677a53860",
   "metadata": {},
   "outputs": [],
   "source": [
    "df = pd.read_csv('../data/annotation/output_frm_doccano/24040ef3-d7ac-4da1-8c82-bd7dd1aa644e/robAdmin.csv')"
   ]
  },
  {
   "cell_type": "code",
   "execution_count": 33,
   "id": "9c9e4497-efdb-43bb-973b-986e3fb35c8b",
   "metadata": {},
   "outputs": [],
   "source": [
    "df=df.dropna(subset='label').drop(columns=['Comments'])"
   ]
  },
  {
   "cell_type": "code",
   "execution_count": 34,
   "id": "3fde1045-223f-484e-810b-1786e29770a5",
   "metadata": {},
   "outputs": [],
   "source": [
    "for label in sorted(set(df['label'])):\n",
    "    df[label] = pd.get_dummies(df['label'])[label].astype(int)\n",
    "df=df.drop(columns=['label'])"
   ]
  },
  {
   "cell_type": "code",
   "execution_count": 36,
   "id": "13b78e79-6c3b-42d1-ac74-57976cb2bdb3",
   "metadata": {},
   "outputs": [],
   "source": [
    "df.to_csv('../data/processed/dataframes/from_doccano_chatgpt_gen.csv', index=False)"
   ]
  },
  {
   "cell_type": "code",
   "execution_count": null,
   "id": "475846bb-2014-4ead-813d-3ad23f03e9e8",
   "metadata": {},
   "outputs": [],
   "source": []
  }
 ],
 "metadata": {
  "kernelspec": {
   "display_name": "Python 3 (ipykernel)",
   "language": "python",
   "name": "python3"
  },
  "language_info": {
   "codemirror_mode": {
    "name": "ipython",
    "version": 3
   },
   "file_extension": ".py",
   "mimetype": "text/x-python",
   "name": "python",
   "nbconvert_exporter": "python",
   "pygments_lexer": "ipython3",
   "version": "3.9.6"
  }
 },
 "nbformat": 4,
 "nbformat_minor": 5
}
